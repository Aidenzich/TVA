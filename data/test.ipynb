{
 "cells": [
  {
   "cell_type": "code",
   "execution_count": 1,
   "metadata": {},
   "outputs": [
    {
     "data": {
      "text/html": [
       "<div>\n",
       "<style scoped>\n",
       "    .dataframe tbody tr th:only-of-type {\n",
       "        vertical-align: middle;\n",
       "    }\n",
       "\n",
       "    .dataframe tbody tr th {\n",
       "        vertical-align: top;\n",
       "    }\n",
       "\n",
       "    .dataframe thead th {\n",
       "        text-align: right;\n",
       "    }\n",
       "</style>\n",
       "<table border=\"1\" class=\"dataframe\">\n",
       "  <thead>\n",
       "    <tr style=\"text-align: right;\">\n",
       "      <th></th>\n",
       "      <th>customer</th>\n",
       "      <th>order_date</th>\n",
       "      <th>product</th>\n",
       "    </tr>\n",
       "  </thead>\n",
       "  <tbody>\n",
       "    <tr>\n",
       "      <th>0</th>\n",
       "      <td>00001f06-ae9a-4063-a22d-fd7754c89d74</td>\n",
       "      <td>2021-08-06 20:42:17</td>\n",
       "      <td>eede7de4-97b0-4f92-890d-599550b4d239</td>\n",
       "    </tr>\n",
       "    <tr>\n",
       "      <th>1</th>\n",
       "      <td>00002857-64cb-4112-afb9-aa8e6eb79eb4</td>\n",
       "      <td>2021-11-01 08:35:09</td>\n",
       "      <td>fb3ad737-237d-402e-9690-dddc9e03e173</td>\n",
       "    </tr>\n",
       "    <tr>\n",
       "      <th>2</th>\n",
       "      <td>0000cc39-a123-425f-b133-ae254f905176</td>\n",
       "      <td>2021-04-28 12:55:47</td>\n",
       "      <td>2811ab88-c28a-40fc-8bc9-b38bcc5f1b25,1dfcd24d-...</td>\n",
       "    </tr>\n",
       "    <tr>\n",
       "      <th>3</th>\n",
       "      <td>0001ae29-bf87-411e-afed-3545f835ac52</td>\n",
       "      <td>2021-11-30 09:53:53</td>\n",
       "      <td>64ed63da-7b5f-408e-a15c-6b494455963b</td>\n",
       "    </tr>\n",
       "    <tr>\n",
       "      <th>4</th>\n",
       "      <td>0001cd9d-eae6-41df-ae53-063592b30c67</td>\n",
       "      <td>2020-10-23 02:18:53</td>\n",
       "      <td>53d4d05e-4eda-4fa1-9e24-598a7e812fb8,abad439e-...</td>\n",
       "    </tr>\n",
       "    <tr>\n",
       "      <th>...</th>\n",
       "      <td>...</td>\n",
       "      <td>...</td>\n",
       "      <td>...</td>\n",
       "    </tr>\n",
       "    <tr>\n",
       "      <th>204093</th>\n",
       "      <td>ffff742d-a685-4161-bc54-4b4dac33ec39</td>\n",
       "      <td>2021-11-14 23:08:09</td>\n",
       "      <td>3feb364a-8d30-4dda-8fd0-c3b7d3a93707</td>\n",
       "    </tr>\n",
       "    <tr>\n",
       "      <th>204094</th>\n",
       "      <td>ffff7ef9-9a24-4368-8ac5-354aacd765f3</td>\n",
       "      <td>2020-10-17 22:58:21</td>\n",
       "      <td>415365fe-0831-4eb8-ad42-bb1883bd87f3,cf4c2990-...</td>\n",
       "    </tr>\n",
       "    <tr>\n",
       "      <th>204095</th>\n",
       "      <td>ffffecab-6e82-4ada-a55e-a104f2f899f6</td>\n",
       "      <td>2020-10-04 21:26:28</td>\n",
       "      <td>e4a7f3a7-0cf7-44bb-8c86-b15b89f93406,0c995c04-...</td>\n",
       "    </tr>\n",
       "    <tr>\n",
       "      <th>204096</th>\n",
       "      <td>fffff859-d3e9-4e6f-840a-5112618a3b77</td>\n",
       "      <td>2021-07-20 08:32:11</td>\n",
       "      <td>dba2f638-830e-4418-9e39-cf732127af66</td>\n",
       "    </tr>\n",
       "    <tr>\n",
       "      <th>204097</th>\n",
       "      <td>fffffdfc-b623-4e97-a5e1-d455bcec53ef</td>\n",
       "      <td>2021-11-17 23:00:55</td>\n",
       "      <td>815ca534-be54-4c59-820e-d53bf094dc78,e02e7eb5-...</td>\n",
       "    </tr>\n",
       "  </tbody>\n",
       "</table>\n",
       "<p>204098 rows × 3 columns</p>\n",
       "</div>"
      ],
      "text/plain": [
       "                                    customer           order_date  \\\n",
       "0       00001f06-ae9a-4063-a22d-fd7754c89d74  2021-08-06 20:42:17   \n",
       "1       00002857-64cb-4112-afb9-aa8e6eb79eb4  2021-11-01 08:35:09   \n",
       "2       0000cc39-a123-425f-b133-ae254f905176  2021-04-28 12:55:47   \n",
       "3       0001ae29-bf87-411e-afed-3545f835ac52  2021-11-30 09:53:53   \n",
       "4       0001cd9d-eae6-41df-ae53-063592b30c67  2020-10-23 02:18:53   \n",
       "...                                      ...                  ...   \n",
       "204093  ffff742d-a685-4161-bc54-4b4dac33ec39  2021-11-14 23:08:09   \n",
       "204094  ffff7ef9-9a24-4368-8ac5-354aacd765f3  2020-10-17 22:58:21   \n",
       "204095  ffffecab-6e82-4ada-a55e-a104f2f899f6  2020-10-04 21:26:28   \n",
       "204096  fffff859-d3e9-4e6f-840a-5112618a3b77  2021-07-20 08:32:11   \n",
       "204097  fffffdfc-b623-4e97-a5e1-d455bcec53ef  2021-11-17 23:00:55   \n",
       "\n",
       "                                                  product  \n",
       "0                    eede7de4-97b0-4f92-890d-599550b4d239  \n",
       "1                    fb3ad737-237d-402e-9690-dddc9e03e173  \n",
       "2       2811ab88-c28a-40fc-8bc9-b38bcc5f1b25,1dfcd24d-...  \n",
       "3                    64ed63da-7b5f-408e-a15c-6b494455963b  \n",
       "4       53d4d05e-4eda-4fa1-9e24-598a7e812fb8,abad439e-...  \n",
       "...                                                   ...  \n",
       "204093               3feb364a-8d30-4dda-8fd0-c3b7d3a93707  \n",
       "204094  415365fe-0831-4eb8-ad42-bb1883bd87f3,cf4c2990-...  \n",
       "204095  e4a7f3a7-0cf7-44bb-8c86-b15b89f93406,0c995c04-...  \n",
       "204096               dba2f638-830e-4418-9e39-cf732127af66  \n",
       "204097  815ca534-be54-4c59-820e-d53bf094dc78,e02e7eb5-...  \n",
       "\n",
       "[204098 rows x 3 columns]"
      ]
     },
     "execution_count": 1,
     "metadata": {},
     "output_type": "execute_result"
    }
   ],
   "source": [
    "import pandas as pd\n",
    "from tqdm import tqdm\n",
    "import json\n",
    "\n",
    "df = pd.read_csv(\"./last_buy.csv\")\n",
    "\n",
    "out_file_name = \"bert4rec.default.without_last_cls.config.epoch=13-step=104832\"\n",
    "out = json.load(open(f\"../out/{out_file_name}.json\", \"r\"))\n",
    "\n",
    "df"
   ]
  },
  {
   "cell_type": "code",
   "execution_count": 2,
   "metadata": {},
   "outputs": [],
   "source": [
    "def calculate_recall_precision_f1(dataframe: pd.DataFrame, pred_dict):\n",
    "    user_history_dict = pd.Series(dataframe[\"product\"].values,index=dataframe[\"customer\"]).to_dict()\n",
    "    hits = 0\n",
    "    recall = 0\n",
    "    precision = 0\n",
    "    for u in tqdm(pred_dict):\n",
    "        trues = user_history_dict[u].split(\",\")\n",
    "        \n",
    "        preds = pred_dict[u]\n",
    "        hit = list(set(preds) & set(trues))    \n",
    "        hits += len(hit)\n",
    "        \n",
    "        recall += len(hit)/len(trues)\n",
    "        precision += len(hit)/len(preds)\n",
    "\n",
    "    recall = recall/len(dataframe)\n",
    "    precision = precision/len(dataframe)\n",
    "    f1 = 2 * (precision * recall) / (precision + recall)\n",
    "\n",
    "    \n",
    "    return recall, precision, f1\n",
    "        "
   ]
  },
  {
   "cell_type": "code",
   "execution_count": 3,
   "metadata": {},
   "outputs": [
    {
     "name": "stderr",
     "output_type": "stream",
     "text": [
      "100%|██████████| 179701/179701 [00:00<00:00, 299308.80it/s]"
     ]
    },
    {
     "name": "stdout",
     "output_type": "stream",
     "text": [
      "total_recall 0.1461977745431492\n",
      "total_precision 0.01608394006799743\n",
      "total_f1 0.02897968202346192\n"
     ]
    },
    {
     "name": "stderr",
     "output_type": "stream",
     "text": [
      "\n"
     ]
    }
   ],
   "source": [
    "\n",
    "recall, precision, f1 = calculate_recall_precision_f1(df, out)\n",
    "print(\"total_recall\", recall)\n",
    "print(\"total_precision\", precision)\n",
    "print(\"total_f1\", f1)"
   ]
  },
  {
   "cell_type": "code",
   "execution_count": 4,
   "metadata": {},
   "outputs": [
    {
     "name": "stderr",
     "output_type": "stream",
     "text": [
      "100%|██████████| 179701/179701 [00:00<00:00, 551246.63it/s]"
     ]
    },
    {
     "name": "stdout",
     "output_type": "stream",
     "text": [
      "total_recall 0.045250897696267584\n",
      "total_precision 0.026475516663552662\n",
      "total_f1 0.033405849342703756\n"
     ]
    },
    {
     "name": "stderr",
     "output_type": "stream",
     "text": [
      "\n"
     ]
    }
   ],
   "source": [
    "out_file_name = \"tva.default.without_last_cls.config.epoch=9-step=74880\"\n",
    "\n",
    "out2 = json.load(open(f\"../out/{out_file_name}.json\", \"r\"))\n",
    "recall, precision, f1 = calculate_recall_precision_f1(df, out2)\n",
    "print(\"total_recall\", recall)\n",
    "print(\"total_precision\", precision)\n",
    "print(\"total_f1\", f1)"
   ]
  },
  {
   "cell_type": "code",
   "execution_count": 5,
   "metadata": {},
   "outputs": [
    {
     "name": "stdout",
     "output_type": "stream",
     "text": [
      "predict_users 179701\n"
     ]
    },
    {
     "name": "stderr",
     "output_type": "stream",
     "text": [
      "100%|██████████| 179701/179701 [00:00<00:00, 561799.31it/s]"
     ]
    },
    {
     "name": "stdout",
     "output_type": "stream",
     "text": [
      "total_recall 0.06098694183246808\n",
      "total_precision 0.036987133631863324\n",
      "total_f1 0.046047531587626936\n"
     ]
    },
    {
     "name": "stderr",
     "output_type": "stream",
     "text": [
      "\n"
     ]
    }
   ],
   "source": [
    "out_file_name = \"bert4rec.default.without_last_cls.config.epoch=9-step=74880\"\n",
    "out = json.load(open(f\"../out/{out_file_name}.json\", \"r\"))\n",
    "print(\"predict_users\", len(out))\n",
    "recall, precision, f1 = calculate_recall_precision_f1(df, out)\n",
    "print(\"total_recall\", recall)\n",
    "print(\"total_precision\", precision)\n",
    "print(\"total_f1\", f1)"
   ]
  },
  {
   "cell_type": "code",
   "execution_count": 70,
   "metadata": {},
   "outputs": [
    {
     "name": "stdout",
     "output_type": "stream",
     "text": [
      "predict_users 204098\n"
     ]
    },
    {
     "name": "stderr",
     "output_type": "stream",
     "text": [
      "100%|██████████| 204098/204098 [00:00<00:00, 573979.09it/s]"
     ]
    },
    {
     "name": "stdout",
     "output_type": "stream",
     "text": [
      "total_recall 0.14249292488235613\n",
      "total_precision 0.05782810218622946\n",
      "total_f1 0.08226890148771429\n"
     ]
    },
    {
     "name": "stderr",
     "output_type": "stream",
     "text": [
      "\n"
     ]
    }
   ],
   "source": [
    "out_file_name = \"vaecf.vae_matrix.without_last_cls.config.epoch=9-step=25520\"\n",
    "out = json.load(open(f\"../out/{out_file_name}.json\", \"r\"))\n",
    "print(\"predict_users\", len(out))\n",
    "recall, precision, f1 = calculate_recall_precision_f1(df, out)\n",
    "print(\"total_recall\", recall)\n",
    "print(\"total_precision\", precision)\n",
    "print(\"total_f1\", f1)"
   ]
  }
 ],
 "metadata": {
  "kernelspec": {
   "display_name": "Python 3.8.12 ('all-in-one')",
   "language": "python",
   "name": "python3"
  },
  "language_info": {
   "codemirror_mode": {
    "name": "ipython",
    "version": 3
   },
   "file_extension": ".py",
   "mimetype": "text/x-python",
   "name": "python",
   "nbconvert_exporter": "python",
   "pygments_lexer": "ipython3",
   "version": "3.8.12"
  },
  "orig_nbformat": 4,
  "vscode": {
   "interpreter": {
    "hash": "8224441c51b553385eb2bfe3ad453e2ac697c4b0e856076c5994568a3fbd03d0"
   }
  }
 },
 "nbformat": 4,
 "nbformat_minor": 2
}
