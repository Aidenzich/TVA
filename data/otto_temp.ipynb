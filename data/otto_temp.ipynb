{
 "cells": [
  {
   "cell_type": "code",
   "execution_count": 1,
   "metadata": {},
   "outputs": [],
   "source": [
    "import json\n",
    "import numpy as np\n",
    "import pandas as pd\n",
    "from tqdm import tqdm\n",
    "train_orders = pd.read_pickle('./otto_train_orders.pkl')\n",
    "test_clicks = pd.read_pickle('./otto_test_clicks.pkl')\n",
    "test_carts = pd.read_pickle('./otto_test_carts.pkl')\n",
    "test_orders = pd.read_pickle('./otto_test_orders.pkl')\n",
    "# submis = pd.read_csv('./sample_submission.csv')\n",
    "test =  pd.concat([test_clicks, test_carts, test_orders], axis=0)"
   ]
  },
  {
   "cell_type": "code",
   "execution_count": 2,
   "metadata": {},
   "outputs": [],
   "source": [
    "test.to_csv('otto_test.csv', index=False)"
   ]
  },
  {
   "cell_type": "code",
   "execution_count": 8,
   "metadata": {},
   "outputs": [
    {
     "name": "stdout",
     "output_type": "stream",
     "text": [
      "5015409\n",
      "1670191\n"
     ]
    }
   ],
   "source": [
    "print(len(test.session.unique())*3)\n",
    "print(len(test_clicks.session.unique()))"
   ]
  },
  {
   "cell_type": "code",
   "execution_count": 11,
   "metadata": {},
   "outputs": [
    {
     "data": {
      "text/plain": [
       "Index(['session', 'aid', 'type', 'rating', 'ts'], dtype='object')"
      ]
     },
     "execution_count": 11,
     "metadata": {},
     "output_type": "execute_result"
    }
   ],
   "source": [
    "test_clicks.columns"
   ]
  },
  {
   "cell_type": "code",
   "execution_count": 2,
   "metadata": {},
   "outputs": [],
   "source": [
    "cart_samples = test_clicks.groupby(['session']).apply(lambda d: d['aid'].astype(str).tolist()).to_dict()\n",
    "order_samples = test_carts.groupby(['session']).apply(lambda d: d['aid'].astype(str).tolist()).to_dict()\n",
    "# for u in tqdm(test_clicks['session'].unique().tolist()):\n",
    "#     udf = test_clicks[test_clicks['session'] == u]\n",
    "#     order_samples[u] = list(set(udf.aid.tolist()))\n",
    "    \n",
    "    "
   ]
  },
  {
   "cell_type": "code",
   "execution_count": 29,
   "metadata": {},
   "outputs": [
    {
     "name": "stdout",
     "output_type": "stream",
     "text": [
      "12899779\n"
     ]
    }
   ],
   "source": [
    "order_samples"
   ]
  },
  {
   "cell_type": "code",
   "execution_count": 34,
   "metadata": {},
   "outputs": [],
   "source": [
    "from pathlib import Path\n",
    "import pickle\n",
    "\n",
    "paths = ['./otto_test_nsample_for_clicks.pkl', './otto_test_nsample_for_carts.pkl']\n",
    "\n",
    "path = Path('./otto_test_nsample_for_carts.pkl')\n",
    "with path.open(\"wb\") as f:\n",
    "    pickle.dump(order_samples, f)"
   ]
  },
  {
   "cell_type": "code",
   "execution_count": 3,
   "metadata": {},
   "outputs": [
    {
     "data": {
      "text/plain": [
       "231487     4485\n",
       "166037     3824\n",
       "1733943    3042\n",
       "1445562    2998\n",
       "1022566    2788\n",
       "           ... \n",
       "1423851       1\n",
       "1379439       1\n",
       "137699        1\n",
       "1035856       1\n",
       "1382071       1\n",
       "Name: aid, Length: 657940, dtype: int64"
      ]
     },
     "execution_count": 3,
     "metadata": {},
     "output_type": "execute_result"
    }
   ],
   "source": [
    "train_orders.aid.value_counts()"
   ]
  },
  {
   "cell_type": "code",
   "execution_count": 5,
   "metadata": {},
   "outputs": [
    {
     "data": {
      "text/html": [
       "<div>\n",
       "<style scoped>\n",
       "    .dataframe tbody tr th:only-of-type {\n",
       "        vertical-align: middle;\n",
       "    }\n",
       "\n",
       "    .dataframe tbody tr th {\n",
       "        vertical-align: top;\n",
       "    }\n",
       "\n",
       "    .dataframe thead th {\n",
       "        text-align: right;\n",
       "    }\n",
       "</style>\n",
       "<table border=\"1\" class=\"dataframe\">\n",
       "  <thead>\n",
       "    <tr style=\"text-align: right;\">\n",
       "      <th></th>\n",
       "      <th>type</th>\n",
       "      <th>aid</th>\n",
       "      <th>session</th>\n",
       "    </tr>\n",
       "  </thead>\n",
       "  <tbody>\n",
       "    <tr>\n",
       "      <th>0</th>\n",
       "      <td>orders</td>\n",
       "      <td>3</td>\n",
       "      <td>38</td>\n",
       "    </tr>\n",
       "    <tr>\n",
       "      <th>1</th>\n",
       "      <td>orders</td>\n",
       "      <td>10</td>\n",
       "      <td>1</td>\n",
       "    </tr>\n",
       "    <tr>\n",
       "      <th>2</th>\n",
       "      <td>orders</td>\n",
       "      <td>11</td>\n",
       "      <td>3</td>\n",
       "    </tr>\n",
       "    <tr>\n",
       "      <th>3</th>\n",
       "      <td>orders</td>\n",
       "      <td>14</td>\n",
       "      <td>3</td>\n",
       "    </tr>\n",
       "    <tr>\n",
       "      <th>4</th>\n",
       "      <td>orders</td>\n",
       "      <td>16</td>\n",
       "      <td>2</td>\n",
       "    </tr>\n",
       "    <tr>\n",
       "      <th>...</th>\n",
       "      <td>...</td>\n",
       "      <td>...</td>\n",
       "      <td>...</td>\n",
       "    </tr>\n",
       "    <tr>\n",
       "      <th>657935</th>\n",
       "      <td>orders</td>\n",
       "      <td>1855592</td>\n",
       "      <td>3</td>\n",
       "    </tr>\n",
       "    <tr>\n",
       "      <th>657936</th>\n",
       "      <td>orders</td>\n",
       "      <td>1855593</td>\n",
       "      <td>1</td>\n",
       "    </tr>\n",
       "    <tr>\n",
       "      <th>657937</th>\n",
       "      <td>orders</td>\n",
       "      <td>1855594</td>\n",
       "      <td>82</td>\n",
       "    </tr>\n",
       "    <tr>\n",
       "      <th>657938</th>\n",
       "      <td>orders</td>\n",
       "      <td>1855597</td>\n",
       "      <td>1</td>\n",
       "    </tr>\n",
       "    <tr>\n",
       "      <th>657939</th>\n",
       "      <td>orders</td>\n",
       "      <td>1855600</td>\n",
       "      <td>1</td>\n",
       "    </tr>\n",
       "  </tbody>\n",
       "</table>\n",
       "<p>657940 rows × 3 columns</p>\n",
       "</div>"
      ],
      "text/plain": [
       "          type      aid  session\n",
       "0       orders        3       38\n",
       "1       orders       10        1\n",
       "2       orders       11        3\n",
       "3       orders       14        3\n",
       "4       orders       16        2\n",
       "...        ...      ...      ...\n",
       "657935  orders  1855592        3\n",
       "657936  orders  1855593        1\n",
       "657937  orders  1855594       82\n",
       "657938  orders  1855597        1\n",
       "657939  orders  1855600        1\n",
       "\n",
       "[657940 rows x 3 columns]"
      ]
     },
     "execution_count": 5,
     "metadata": {},
     "output_type": "execute_result"
    }
   ],
   "source": [
    "temp = train_orders.groupby(['type','aid'])['session'].agg('count').reset_index()\n",
    "temp"
   ]
  },
  {
   "cell_type": "code",
   "execution_count": 6,
   "metadata": {},
   "outputs": [
    {
     "data": {
      "text/html": [
       "<div>\n",
       "<style scoped>\n",
       "    .dataframe tbody tr th:only-of-type {\n",
       "        vertical-align: middle;\n",
       "    }\n",
       "\n",
       "    .dataframe tbody tr th {\n",
       "        vertical-align: top;\n",
       "    }\n",
       "\n",
       "    .dataframe thead th {\n",
       "        text-align: right;\n",
       "    }\n",
       "</style>\n",
       "<table border=\"1\" class=\"dataframe\">\n",
       "  <thead>\n",
       "    <tr style=\"text-align: right;\">\n",
       "      <th></th>\n",
       "      <th>index</th>\n",
       "      <th>type</th>\n",
       "      <th>aid</th>\n",
       "      <th>count</th>\n",
       "    </tr>\n",
       "  </thead>\n",
       "  <tbody>\n",
       "    <tr>\n",
       "      <th>0</th>\n",
       "      <td>81987</td>\n",
       "      <td>orders</td>\n",
       "      <td>231487</td>\n",
       "      <td>4485</td>\n",
       "    </tr>\n",
       "    <tr>\n",
       "      <th>1</th>\n",
       "      <td>58924</td>\n",
       "      <td>orders</td>\n",
       "      <td>166037</td>\n",
       "      <td>3824</td>\n",
       "    </tr>\n",
       "    <tr>\n",
       "      <th>2</th>\n",
       "      <td>614879</td>\n",
       "      <td>orders</td>\n",
       "      <td>1733943</td>\n",
       "      <td>3042</td>\n",
       "    </tr>\n",
       "    <tr>\n",
       "      <th>3</th>\n",
       "      <td>512359</td>\n",
       "      <td>orders</td>\n",
       "      <td>1445562</td>\n",
       "      <td>2998</td>\n",
       "    </tr>\n",
       "    <tr>\n",
       "      <th>4</th>\n",
       "      <td>362170</td>\n",
       "      <td>orders</td>\n",
       "      <td>1022566</td>\n",
       "      <td>2788</td>\n",
       "    </tr>\n",
       "    <tr>\n",
       "      <th>...</th>\n",
       "      <td>...</td>\n",
       "      <td>...</td>\n",
       "      <td>...</td>\n",
       "      <td>...</td>\n",
       "    </tr>\n",
       "    <tr>\n",
       "      <th>657935</th>\n",
       "      <td>357825</td>\n",
       "      <td>orders</td>\n",
       "      <td>1010520</td>\n",
       "      <td>1</td>\n",
       "    </tr>\n",
       "    <tr>\n",
       "      <th>657936</th>\n",
       "      <td>357824</td>\n",
       "      <td>orders</td>\n",
       "      <td>1010518</td>\n",
       "      <td>1</td>\n",
       "    </tr>\n",
       "    <tr>\n",
       "      <th>657937</th>\n",
       "      <td>357822</td>\n",
       "      <td>orders</td>\n",
       "      <td>1010505</td>\n",
       "      <td>1</td>\n",
       "    </tr>\n",
       "    <tr>\n",
       "      <th>657938</th>\n",
       "      <td>357819</td>\n",
       "      <td>orders</td>\n",
       "      <td>1010497</td>\n",
       "      <td>1</td>\n",
       "    </tr>\n",
       "    <tr>\n",
       "      <th>657939</th>\n",
       "      <td>657939</td>\n",
       "      <td>orders</td>\n",
       "      <td>1855600</td>\n",
       "      <td>1</td>\n",
       "    </tr>\n",
       "  </tbody>\n",
       "</table>\n",
       "<p>657940 rows × 4 columns</p>\n",
       "</div>"
      ],
      "text/plain": [
       "         index    type      aid  count\n",
       "0        81987  orders   231487   4485\n",
       "1        58924  orders   166037   3824\n",
       "2       614879  orders  1733943   3042\n",
       "3       512359  orders  1445562   2998\n",
       "4       362170  orders  1022566   2788\n",
       "...        ...     ...      ...    ...\n",
       "657935  357825  orders  1010520      1\n",
       "657936  357824  orders  1010518      1\n",
       "657937  357822  orders  1010505      1\n",
       "657938  357819  orders  1010497      1\n",
       "657939  657939  orders  1855600      1\n",
       "\n",
       "[657940 rows x 4 columns]"
      ]
     },
     "execution_count": 6,
     "metadata": {},
     "output_type": "execute_result"
    }
   ],
   "source": [
    "temp.columns = ['type','aid','count']\n",
    "order_num_df = temp.loc[(temp['type'] == 'orders'), ]\n",
    "order_num_df = order_num_df.sort_values(['count'],ascending=False).reset_index()\n",
    "order_num_df"
   ]
  },
  {
   "cell_type": "code",
   "execution_count": 10,
   "metadata": {},
   "outputs": [],
   "source": [
    "top20 = train_orders.aid.value_counts()[:20].index.tolist()\n",
    "top20 = [str(i) for i in top20]"
   ]
  },
  {
   "cell_type": "code",
   "execution_count": 11,
   "metadata": {},
   "outputs": [
    {
     "name": "stderr",
     "output_type": "stream",
     "text": [
      "100%|██████████| 1671803/1671803 [00:03<00:00, 478265.21it/s]\n"
     ]
    }
   ],
   "source": [
    "\n",
    "\n",
    "session_type = []\n",
    "labels = []\n",
    "types = [\"clicks\", \"carts\", \"orders\"]\n",
    "\n",
    "for i in tqdm(test.session.unique().tolist()):\n",
    "    for t in types:\n",
    "        session_type.append(str(i) + \"_\" + str(t))\n",
    "        # labels.append(' 80222 1022566 166037 1629608 1733943 332654 351335 923948 1603001 544144 1083665 832192 29735 231487 563117 247240 673407 125278 800391 527209')\n",
    "        labels.append(' '.join(top20))"
   ]
  },
  {
   "cell_type": "code",
   "execution_count": 12,
   "metadata": {},
   "outputs": [
    {
     "data": {
      "text/html": [
       "<div>\n",
       "<style scoped>\n",
       "    .dataframe tbody tr th:only-of-type {\n",
       "        vertical-align: middle;\n",
       "    }\n",
       "\n",
       "    .dataframe tbody tr th {\n",
       "        vertical-align: top;\n",
       "    }\n",
       "\n",
       "    .dataframe thead th {\n",
       "        text-align: right;\n",
       "    }\n",
       "</style>\n",
       "<table border=\"1\" class=\"dataframe\">\n",
       "  <thead>\n",
       "    <tr style=\"text-align: right;\">\n",
       "      <th></th>\n",
       "      <th>session_type</th>\n",
       "      <th>labels</th>\n",
       "    </tr>\n",
       "  </thead>\n",
       "  <tbody>\n",
       "    <tr>\n",
       "      <th>0</th>\n",
       "      <td>12899779_clicks</td>\n",
       "      <td>231487 166037 1733943 1445562 1022566 801774 1...</td>\n",
       "    </tr>\n",
       "    <tr>\n",
       "      <th>1</th>\n",
       "      <td>12899779_carts</td>\n",
       "      <td>231487 166037 1733943 1445562 1022566 801774 1...</td>\n",
       "    </tr>\n",
       "    <tr>\n",
       "      <th>2</th>\n",
       "      <td>12899779_orders</td>\n",
       "      <td>231487 166037 1733943 1445562 1022566 801774 1...</td>\n",
       "    </tr>\n",
       "    <tr>\n",
       "      <th>3</th>\n",
       "      <td>12899780_clicks</td>\n",
       "      <td>231487 166037 1733943 1445562 1022566 801774 1...</td>\n",
       "    </tr>\n",
       "    <tr>\n",
       "      <th>4</th>\n",
       "      <td>12899780_carts</td>\n",
       "      <td>231487 166037 1733943 1445562 1022566 801774 1...</td>\n",
       "    </tr>\n",
       "    <tr>\n",
       "      <th>...</th>\n",
       "      <td>...</td>\n",
       "      <td>...</td>\n",
       "    </tr>\n",
       "    <tr>\n",
       "      <th>5015404</th>\n",
       "      <td>14559742_carts</td>\n",
       "      <td>231487 166037 1733943 1445562 1022566 801774 1...</td>\n",
       "    </tr>\n",
       "    <tr>\n",
       "      <th>5015405</th>\n",
       "      <td>14559742_orders</td>\n",
       "      <td>231487 166037 1733943 1445562 1022566 801774 1...</td>\n",
       "    </tr>\n",
       "    <tr>\n",
       "      <th>5015406</th>\n",
       "      <td>14568250_clicks</td>\n",
       "      <td>231487 166037 1733943 1445562 1022566 801774 1...</td>\n",
       "    </tr>\n",
       "    <tr>\n",
       "      <th>5015407</th>\n",
       "      <td>14568250_carts</td>\n",
       "      <td>231487 166037 1733943 1445562 1022566 801774 1...</td>\n",
       "    </tr>\n",
       "    <tr>\n",
       "      <th>5015408</th>\n",
       "      <td>14568250_orders</td>\n",
       "      <td>231487 166037 1733943 1445562 1022566 801774 1...</td>\n",
       "    </tr>\n",
       "  </tbody>\n",
       "</table>\n",
       "<p>5015409 rows × 2 columns</p>\n",
       "</div>"
      ],
      "text/plain": [
       "            session_type                                             labels\n",
       "0        12899779_clicks  231487 166037 1733943 1445562 1022566 801774 1...\n",
       "1         12899779_carts  231487 166037 1733943 1445562 1022566 801774 1...\n",
       "2        12899779_orders  231487 166037 1733943 1445562 1022566 801774 1...\n",
       "3        12899780_clicks  231487 166037 1733943 1445562 1022566 801774 1...\n",
       "4         12899780_carts  231487 166037 1733943 1445562 1022566 801774 1...\n",
       "...                  ...                                                ...\n",
       "5015404   14559742_carts  231487 166037 1733943 1445562 1022566 801774 1...\n",
       "5015405  14559742_orders  231487 166037 1733943 1445562 1022566 801774 1...\n",
       "5015406  14568250_clicks  231487 166037 1733943 1445562 1022566 801774 1...\n",
       "5015407   14568250_carts  231487 166037 1733943 1445562 1022566 801774 1...\n",
       "5015408  14568250_orders  231487 166037 1733943 1445562 1022566 801774 1...\n",
       "\n",
       "[5015409 rows x 2 columns]"
      ]
     },
     "execution_count": 12,
     "metadata": {},
     "output_type": "execute_result"
    }
   ],
   "source": [
    "df = pd.DataFrame({\"session_type\": session_type, \"labels\": labels})\n",
    "df"
   ]
  },
  {
   "cell_type": "code",
   "execution_count": 38,
   "metadata": {},
   "outputs": [],
   "source": [
    "df.to_csv(\"submission.csv\", index=False)"
   ]
  }
 ],
 "metadata": {
  "kernelspec": {
   "display_name": "Python 3.8.12 ('all-in-one')",
   "language": "python",
   "name": "python3"
  },
  "language_info": {
   "codemirror_mode": {
    "name": "ipython",
    "version": 3
   },
   "file_extension": ".py",
   "mimetype": "text/x-python",
   "name": "python",
   "nbconvert_exporter": "python",
   "pygments_lexer": "ipython3",
   "version": "3.8.12"
  },
  "orig_nbformat": 4,
  "vscode": {
   "interpreter": {
    "hash": "8224441c51b553385eb2bfe3ad453e2ac697c4b0e856076c5994568a3fbd03d0"
   }
  }
 },
 "nbformat": 4,
 "nbformat_minor": 2
}
