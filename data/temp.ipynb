{
 "cells": [
  {
   "cell_type": "code",
   "execution_count": 1,
   "metadata": {},
   "outputs": [],
   "source": [
    "import pandas as pd\n",
    "\n",
    "df = pd.read_pickle('./train.pkl')"
   ]
  },
  {
   "cell_type": "code",
   "execution_count": 2,
   "metadata": {},
   "outputs": [
    {
     "data": {
      "text/html": [
       "<div>\n",
       "<style scoped>\n",
       "    .dataframe tbody tr th:only-of-type {\n",
       "        vertical-align: middle;\n",
       "    }\n",
       "\n",
       "    .dataframe tbody tr th {\n",
       "        vertical-align: top;\n",
       "    }\n",
       "\n",
       "    .dataframe thead th {\n",
       "        text-align: right;\n",
       "    }\n",
       "</style>\n",
       "<table border=\"1\" class=\"dataframe\">\n",
       "  <thead>\n",
       "    <tr style=\"text-align: right;\">\n",
       "      <th></th>\n",
       "      <th>user</th>\n",
       "      <th>item</th>\n",
       "      <th>rating</th>\n",
       "      <th>timestamp</th>\n",
       "      <th>type</th>\n",
       "    </tr>\n",
       "  </thead>\n",
       "  <tbody>\n",
       "    <tr>\n",
       "      <th>0</th>\n",
       "      <td>0</td>\n",
       "      <td>305831</td>\n",
       "      <td>1</td>\n",
       "      <td>1659370027105</td>\n",
       "      <td>orders</td>\n",
       "    </tr>\n",
       "    <tr>\n",
       "      <th>1</th>\n",
       "      <td>0</td>\n",
       "      <td>461689</td>\n",
       "      <td>1</td>\n",
       "      <td>1659370027105</td>\n",
       "      <td>orders</td>\n",
       "    </tr>\n",
       "    <tr>\n",
       "      <th>2</th>\n",
       "      <td>0</td>\n",
       "      <td>1199474</td>\n",
       "      <td>1</td>\n",
       "      <td>1661552940651</td>\n",
       "      <td>orders</td>\n",
       "    </tr>\n",
       "    <tr>\n",
       "      <th>3</th>\n",
       "      <td>0</td>\n",
       "      <td>543308</td>\n",
       "      <td>1</td>\n",
       "      <td>1661552940651</td>\n",
       "      <td>orders</td>\n",
       "    </tr>\n",
       "    <tr>\n",
       "      <th>4</th>\n",
       "      <td>3</td>\n",
       "      <td>357461</td>\n",
       "      <td>1</td>\n",
       "      <td>1659390912679</td>\n",
       "      <td>orders</td>\n",
       "    </tr>\n",
       "    <tr>\n",
       "      <th>...</th>\n",
       "      <td>...</td>\n",
       "      <td>...</td>\n",
       "      <td>...</td>\n",
       "      <td>...</td>\n",
       "      <td>...</td>\n",
       "    </tr>\n",
       "    <tr>\n",
       "      <th>5098946</th>\n",
       "      <td>12899373</td>\n",
       "      <td>1766353</td>\n",
       "      <td>1</td>\n",
       "      <td>1661723865480</td>\n",
       "      <td>orders</td>\n",
       "    </tr>\n",
       "    <tr>\n",
       "      <th>5098947</th>\n",
       "      <td>12899525</td>\n",
       "      <td>1488793</td>\n",
       "      <td>1</td>\n",
       "      <td>1661723996896</td>\n",
       "      <td>orders</td>\n",
       "    </tr>\n",
       "    <tr>\n",
       "      <th>5098948</th>\n",
       "      <td>12899525</td>\n",
       "      <td>1599360</td>\n",
       "      <td>1</td>\n",
       "      <td>1661723996896</td>\n",
       "      <td>orders</td>\n",
       "    </tr>\n",
       "    <tr>\n",
       "      <th>5098949</th>\n",
       "      <td>12899525</td>\n",
       "      <td>996393</td>\n",
       "      <td>1</td>\n",
       "      <td>1661723996896</td>\n",
       "      <td>orders</td>\n",
       "    </tr>\n",
       "    <tr>\n",
       "      <th>5098950</th>\n",
       "      <td>12899525</td>\n",
       "      <td>956231</td>\n",
       "      <td>1</td>\n",
       "      <td>1661723996896</td>\n",
       "      <td>orders</td>\n",
       "    </tr>\n",
       "  </tbody>\n",
       "</table>\n",
       "<p>5098951 rows × 5 columns</p>\n",
       "</div>"
      ],
      "text/plain": [
       "             user     item  rating      timestamp    type\n",
       "0               0   305831       1  1659370027105  orders\n",
       "1               0   461689       1  1659370027105  orders\n",
       "2               0  1199474       1  1661552940651  orders\n",
       "3               0   543308       1  1661552940651  orders\n",
       "4               3   357461       1  1659390912679  orders\n",
       "...           ...      ...     ...            ...     ...\n",
       "5098946  12899373  1766353       1  1661723865480  orders\n",
       "5098947  12899525  1488793       1  1661723996896  orders\n",
       "5098948  12899525  1599360       1  1661723996896  orders\n",
       "5098949  12899525   996393       1  1661723996896  orders\n",
       "5098950  12899525   956231       1  1661723996896  orders\n",
       "\n",
       "[5098951 rows x 5 columns]"
      ]
     },
     "execution_count": 2,
     "metadata": {},
     "output_type": "execute_result"
    }
   ],
   "source": [
    "df"
   ]
  },
  {
   "cell_type": "code",
   "execution_count": 15,
   "metadata": {},
   "outputs": [],
   "source": [
    "small_Df = df[df.item.isin(list(df.item.value_counts()[:30000].index))]"
   ]
  },
  {
   "cell_type": "code",
   "execution_count": 16,
   "metadata": {},
   "outputs": [],
   "source": [
    "small_Df.to_pickle(\"./small_train.pkl\")"
   ]
  },
  {
   "cell_type": "code",
   "execution_count": 10,
   "metadata": {},
   "outputs": [
    {
     "data": {
      "text/plain": [
       "Int64Index([ 231487,  166037, 1733943, 1445562, 1022566,  801774, 1629608,\n",
       "             756588,  332654, 1603001,\n",
       "            ...\n",
       "             943798, 1164330,  367854,  888198, 1363956,  581784,  438955,\n",
       "            1059698, 1090075, 1613401],\n",
       "           dtype='int64', length=30000)"
      ]
     },
     "execution_count": 10,
     "metadata": {},
     "output_type": "execute_result"
    }
   ],
   "source": [
    "list(df.item.value_counts()[:30000].index)"
   ]
  },
  {
   "cell_type": "code",
   "execution_count": 42,
   "metadata": {},
   "outputs": [],
   "source": [
    "import numpy as np\n",
    "val = [\n",
    "    [1, 2],\n",
    "    [1, 3],\n",
    "    [2, 2],\n",
    "    [2, 3]\n",
    "]\n",
    "\n",
    "val = np.array(val)"
   ]
  },
  {
   "cell_type": "code",
   "execution_count": 43,
   "metadata": {},
   "outputs": [
    {
     "data": {
      "text/plain": [
       "array([1, 1, 2, 2])"
      ]
     },
     "execution_count": 43,
     "metadata": {},
     "output_type": "execute_result"
    }
   ],
   "source": [
    "val[:, 0]"
   ]
  },
  {
   "cell_type": "code",
   "execution_count": 44,
   "metadata": {},
   "outputs": [
    {
     "data": {
      "text/plain": [
       "(array([0, 1]),)"
      ]
     },
     "execution_count": 44,
     "metadata": {},
     "output_type": "execute_result"
    }
   ],
   "source": [
    "uval = (val[:, 0] == 1) & ((val[:, 1] == 2) | (val[:, 1] == 3))\n",
    "idx = np.where(uval)\n",
    "idx"
   ]
  },
  {
   "cell_type": "code",
   "execution_count": 47,
   "metadata": {},
   "outputs": [
    {
     "data": {
      "text/plain": [
       "array([[2, 2],\n",
       "       [2, 3]])"
      ]
     },
     "execution_count": 47,
     "metadata": {},
     "output_type": "execute_result"
    }
   ],
   "source": [
    "np.delete(val, idx, 0)\n"
   ]
  }
 ],
 "metadata": {
  "kernelspec": {
   "display_name": "Python 3.8.12 ('all-in-one')",
   "language": "python",
   "name": "python3"
  },
  "language_info": {
   "codemirror_mode": {
    "name": "ipython",
    "version": 3
   },
   "file_extension": ".py",
   "mimetype": "text/x-python",
   "name": "python",
   "nbconvert_exporter": "python",
   "pygments_lexer": "ipython3",
   "version": "3.8.12"
  },
  "orig_nbformat": 4,
  "vscode": {
   "interpreter": {
    "hash": "8224441c51b553385eb2bfe3ad453e2ac697c4b0e856076c5994568a3fbd03d0"
   }
  }
 },
 "nbformat": 4,
 "nbformat_minor": 2
}
