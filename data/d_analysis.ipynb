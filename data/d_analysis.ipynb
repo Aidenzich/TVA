{
 "cells": [
  {
   "cell_type": "code",
   "execution_count": 3,
   "metadata": {},
   "outputs": [],
   "source": [
    "import pandas as pd\n",
    "import pickle\n",
    "import sys\n",
    "from tqdm import tqdm\n",
    "sys.path.append(\"../\")"
   ]
  },
  {
   "cell_type": "code",
   "execution_count": 4,
   "metadata": {},
   "outputs": [],
   "source": [
    "with open(\"data_cls.pkl\", \"rb\") as f:\n",
    "    myData = pickle.load(f)"
   ]
  },
  {
   "cell_type": "code",
   "execution_count": 5,
   "metadata": {},
   "outputs": [
    {
     "data": {
      "text/html": [
       "<div>\n",
       "<style scoped>\n",
       "    .dataframe tbody tr th:only-of-type {\n",
       "        vertical-align: middle;\n",
       "    }\n",
       "\n",
       "    .dataframe tbody tr th {\n",
       "        vertical-align: top;\n",
       "    }\n",
       "\n",
       "    .dataframe thead th {\n",
       "        text-align: right;\n",
       "    }\n",
       "</style>\n",
       "<table border=\"1\" class=\"dataframe\">\n",
       "  <thead>\n",
       "    <tr style=\"text-align: right;\">\n",
       "      <th></th>\n",
       "      <th>user_id</th>\n",
       "      <th>item_id</th>\n",
       "      <th>rating</th>\n",
       "      <th>timestamp</th>\n",
       "    </tr>\n",
       "  </thead>\n",
       "  <tbody>\n",
       "    <tr>\n",
       "      <th>0</th>\n",
       "      <td>114054</td>\n",
       "      <td>9785</td>\n",
       "      <td>2</td>\n",
       "      <td>1622536442</td>\n",
       "    </tr>\n",
       "    <tr>\n",
       "      <th>1</th>\n",
       "      <td>37815</td>\n",
       "      <td>20556</td>\n",
       "      <td>3</td>\n",
       "      <td>1625851963</td>\n",
       "    </tr>\n",
       "    <tr>\n",
       "      <th>2</th>\n",
       "      <td>37525</td>\n",
       "      <td>26403</td>\n",
       "      <td>1</td>\n",
       "      <td>1625615169</td>\n",
       "    </tr>\n",
       "    <tr>\n",
       "      <th>3</th>\n",
       "      <td>99414</td>\n",
       "      <td>22976</td>\n",
       "      <td>1</td>\n",
       "      <td>1612191989</td>\n",
       "    </tr>\n",
       "    <tr>\n",
       "      <th>4</th>\n",
       "      <td>64325</td>\n",
       "      <td>33853</td>\n",
       "      <td>1</td>\n",
       "      <td>1610484010</td>\n",
       "    </tr>\n",
       "    <tr>\n",
       "      <th>...</th>\n",
       "      <td>...</td>\n",
       "      <td>...</td>\n",
       "      <td>...</td>\n",
       "      <td>...</td>\n",
       "    </tr>\n",
       "    <tr>\n",
       "      <th>4669517</th>\n",
       "      <td>24329</td>\n",
       "      <td>29459</td>\n",
       "      <td>1</td>\n",
       "      <td>1613591641</td>\n",
       "    </tr>\n",
       "    <tr>\n",
       "      <th>4669518</th>\n",
       "      <td>34136</td>\n",
       "      <td>9782</td>\n",
       "      <td>1</td>\n",
       "      <td>1632695955</td>\n",
       "    </tr>\n",
       "    <tr>\n",
       "      <th>4669519</th>\n",
       "      <td>72644</td>\n",
       "      <td>24627</td>\n",
       "      <td>1</td>\n",
       "      <td>1635159773</td>\n",
       "    </tr>\n",
       "    <tr>\n",
       "      <th>4669520</th>\n",
       "      <td>105967</td>\n",
       "      <td>6235</td>\n",
       "      <td>1</td>\n",
       "      <td>1590139787</td>\n",
       "    </tr>\n",
       "    <tr>\n",
       "      <th>4669521</th>\n",
       "      <td>5829</td>\n",
       "      <td>1050</td>\n",
       "      <td>1</td>\n",
       "      <td>1621714535</td>\n",
       "    </tr>\n",
       "  </tbody>\n",
       "</table>\n",
       "<p>4179268 rows × 4 columns</p>\n",
       "</div>"
      ],
      "text/plain": [
       "         user_id  item_id  rating   timestamp\n",
       "0         114054     9785       2  1622536442\n",
       "1          37815    20556       3  1625851963\n",
       "2          37525    26403       1  1625615169\n",
       "3          99414    22976       1  1612191989\n",
       "4          64325    33853       1  1610484010\n",
       "...          ...      ...     ...         ...\n",
       "4669517    24329    29459       1  1613591641\n",
       "4669518    34136     9782       1  1632695955\n",
       "4669519    72644    24627       1  1635159773\n",
       "4669520   105967     6235       1  1590139787\n",
       "4669521     5829     1050       1  1621714535\n",
       "\n",
       "[4179268 rows x 4 columns]"
      ]
     },
     "execution_count": 5,
     "metadata": {},
     "output_type": "execute_result"
    }
   ],
   "source": [
    "myData.dataframe"
   ]
  },
  {
   "cell_type": "code",
   "execution_count": 34,
   "metadata": {},
   "outputs": [],
   "source": []
  },
  {
   "cell_type": "code",
   "execution_count": 20,
   "metadata": {},
   "outputs": [
    {
     "name": "stderr",
     "output_type": "stream",
     "text": [
      "100%|██████████| 115790/115790 [00:00<00:00, 3421310.59it/s]\n"
     ]
    }
   ],
   "source": [
    "\n",
    "test_values = []\n",
    "for i in tqdm(myData.test_seqs.keys()):\n",
    "    test_values.append(myData.test_seqs[i][0]) \n",
    "unique_test_values = list(set(test_values))"
   ]
  },
  {
   "cell_type": "code",
   "execution_count": 35,
   "metadata": {},
   "outputs": [
    {
     "data": {
      "text/plain": [
       "0.061701614846951074"
      ]
     },
     "execution_count": 35,
     "metadata": {},
     "output_type": "execute_result"
    }
   ],
   "source": [
    "from tqdm import tqdm\n",
    "maxValue = myData.dataframe.item_id.value_counts()[:1024].index.tolist()\n",
    "len(list(set(maxValue) & set(unique_test_values))) / len(unique_test_values)"
   ]
  },
  {
   "cell_type": "code",
   "execution_count": 36,
   "metadata": {},
   "outputs": [],
   "source": [
    "with open(\"popular-sample_size1024-seed12345.pkl\", \"rb\") as f:\n",
    "    ns = pickle.load(f)"
   ]
  },
  {
   "cell_type": "code",
   "execution_count": 40,
   "metadata": {},
   "outputs": [
    {
     "data": {
      "text/plain": [
       "34368"
      ]
     },
     "execution_count": 40,
     "metadata": {},
     "output_type": "execute_result"
    }
   ],
   "source": [
    "myData.num_items"
   ]
  },
  {
   "cell_type": "code",
   "execution_count": 41,
   "metadata": {},
   "outputs": [
    {
     "data": {
      "text/plain": [
       "115790"
      ]
     },
     "execution_count": 41,
     "metadata": {},
     "output_type": "execute_result"
    }
   ],
   "source": [
    "myData.num_users"
   ]
  }
 ],
 "metadata": {
  "kernelspec": {
   "display_name": "Python 3.8.12 ('all-in-one')",
   "language": "python",
   "name": "python3"
  },
  "language_info": {
   "codemirror_mode": {
    "name": "ipython",
    "version": 3
   },
   "file_extension": ".py",
   "mimetype": "text/x-python",
   "name": "python",
   "nbconvert_exporter": "python",
   "pygments_lexer": "ipython3",
   "version": "3.8.12"
  },
  "orig_nbformat": 4,
  "vscode": {
   "interpreter": {
    "hash": "8224441c51b553385eb2bfe3ad453e2ac697c4b0e856076c5994568a3fbd03d0"
   }
  }
 },
 "nbformat": 4,
 "nbformat_minor": 2
}
