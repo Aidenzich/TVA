{
 "cells": [
  {
   "cell_type": "code",
   "execution_count": 12,
   "metadata": {},
   "outputs": [],
   "source": [
    "import cornac\n",
    "import numpy as np\n",
    "import pandas as pd\n",
    "import math, sys\n",
    "from dset import RecsysData, SequenceDataset\n",
    "from negative_sampler import NegativeSampler\n",
    "import random\n",
    "from model import BERTModel\n",
    "import pytorch_lightning as pl\n",
    "from torch.utils.data import DataLoader"
   ]
  },
  {
   "cell_type": "code",
   "execution_count": 13,
   "metadata": {},
   "outputs": [],
   "source": [
    "ml_100k = cornac.datasets.movielens.load_feedback(fmt='UIRT')"
   ]
  },
  {
   "cell_type": "code",
   "execution_count": 14,
   "metadata": {},
   "outputs": [
    {
     "name": "stdout",
     "output_type": "stream",
     "text": [
      "['196' '186' '22' ... '276' '13' '12']\n",
      "['242' '302' '377' ... '1090' '225' '203']\n",
      "[3. 3. 1. ... 1. 2. 3.]\n",
      "[881250949 891717742 878887116 ... 874795795 882399156 879959583]\n"
     ]
    }
   ],
   "source": [
    "\n",
    "np_data = np.array(ml_100k)\n",
    "print(np_data[:,0])\n",
    "print(np_data[:,1])\n",
    "print(np_data[:,2].astype(float))\n",
    "print(np_data[:,3].astype(int))"
   ]
  },
  {
   "cell_type": "code",
   "execution_count": 15,
   "metadata": {},
   "outputs": [],
   "source": [
    "\n",
    "\n",
    "pd_data = pd.DataFrame({\n",
    "    'user_id': np_data[:,0],\n",
    "    'item_id': np_data[:,1],\n",
    "    'rating': np_data[:,2].astype(float),\n",
    "    'timestamp': np_data[:,3].astype(int)\n",
    "})"
   ]
  },
  {
   "cell_type": "code",
   "execution_count": 16,
   "metadata": {},
   "outputs": [
    {
     "name": "stdout",
     "output_type": "stream",
     "text": [
      "<class 'pandas.core.frame.DataFrame'>\n",
      "RangeIndex: 100000 entries, 0 to 99999\n",
      "Data columns (total 4 columns):\n",
      " #   Column     Non-Null Count   Dtype  \n",
      "---  ------     --------------   -----  \n",
      " 0   user_id    100000 non-null  object \n",
      " 1   item_id    100000 non-null  object \n",
      " 2   rating     100000 non-null  float64\n",
      " 3   timestamp  100000 non-null  int64  \n",
      "dtypes: float64(1), int64(1), object(2)\n",
      "memory usage: 3.1+ MB\n"
     ]
    }
   ],
   "source": [
    "pd_data.info()\n"
   ]
  },
  {
   "cell_type": "code",
   "execution_count": 17,
   "metadata": {},
   "outputs": [
    {
     "data": {
      "text/plain": [
       "pandas.core.series.Series"
      ]
     },
     "execution_count": 17,
     "metadata": {},
     "output_type": "execute_result"
    }
   ],
   "source": [
    "type(pd_data['user_id'].astype('category').cat.codes)"
   ]
  },
  {
   "cell_type": "code",
   "execution_count": 18,
   "metadata": {},
   "outputs": [
    {
     "name": "stdout",
     "output_type": "stream",
     "text": [
      "13579317\n",
      "51200128\n",
      "800984\n"
     ]
    }
   ],
   "source": [
    "print(sys.getsizeof(pd_data))\n",
    "print(sys.getsizeof(np_data))\n",
    "print(sys.getsizeof(ml_100k))"
   ]
  },
  {
   "cell_type": "code",
   "execution_count": 19,
   "metadata": {},
   "outputs": [
    {
     "name": "stdout",
     "output_type": "stream",
     "text": [
      "Splitting\n"
     ]
    },
    {
     "name": "stderr",
     "output_type": "stream",
     "text": [
      "100%|██████████| 943/943 [00:00<00:00, 4549.06it/s]\n"
     ]
    },
    {
     "data": {
      "text/plain": [
       "1682"
      ]
     },
     "execution_count": 19,
     "metadata": {},
     "output_type": "execute_result"
    }
   ],
   "source": [
    "\n",
    "\n",
    "myData = RecsysData(pd_data)\n",
    "myData.num_items"
   ]
  },
  {
   "cell_type": "code",
   "execution_count": 20,
   "metadata": {},
   "outputs": [
    {
     "name": "stdout",
     "output_type": "stream",
     "text": [
      "Negatives samples exist. Loading.\n"
     ]
    }
   ],
   "source": [
    "max_len = 100\n",
    "\n",
    "\n",
    "trainset = SequenceDataset(\n",
    "    mask_token=myData.num_items + 1,\n",
    "    u2seq=myData.train_seqs,\n",
    "    max_len = max_len,\n",
    "    mask_prob = 0.15,\n",
    "    num_items = myData.num_items,\n",
    "    rng = random.Random(1234)\n",
    ")\n",
    "\n",
    "test_negative_sampler = NegativeSampler(\n",
    "    train=myData.train_seqs,\n",
    "    val=myData.val_seqs,\n",
    "    test=myData.test_seqs,\n",
    "    user_count=myData.num_users,\n",
    "    item_count=myData.num_items,\n",
    "    sample_size=99,\n",
    "    seed=1234,\n",
    "    save_folder=\"./Data/\",\n",
    ")\n",
    "test_negative_samples = test_negative_sampler.get_negative_samples()\n",
    "\n",
    "\n",
    "valset = SequenceDataset(\n",
    "    mask_token = myData.num_items + 1,\n",
    "    eval=True,\n",
    "    u2seq=myData.train_seqs,\n",
    "    u2answer=myData.val_seqs,\n",
    "    max_len = max_len,\n",
    "    negative_samples = test_negative_samples\n",
    ")\n",
    "\n",
    "mymodel = BERTModel(\n",
    "    hidden_size=256,\n",
    "    num_items=myData.num_items,     # item 的數量\n",
    "    n_layers=2,\n",
    "    dropout=0,\n",
    "    heads=8,\n",
    "    max_len=max_len,\n",
    ")"
   ]
  },
  {
   "cell_type": "code",
   "execution_count": 21,
   "metadata": {},
   "outputs": [],
   "source": [
    "train_loader = DataLoader(\n",
    "    trainset, \n",
    "    batch_size=128,\n",
    "    shuffle=True,\n",
    "    pin_memory=True\n",
    ")\n",
    "\n",
    "val_loader = DataLoader(\n",
    "    valset,\n",
    "    batch_size=128,\n",
    "    shuffle=False,\n",
    "    pin_memory=True\n",
    ")"
   ]
  },
  {
   "cell_type": "code",
   "execution_count": 22,
   "metadata": {},
   "outputs": [
    {
     "name": "stderr",
     "output_type": "stream",
     "text": [
      "GPU available: True, used: True\n",
      "TPU available: False, using: 0 TPU cores\n",
      "IPU available: False, using: 0 IPUs\n",
      "HPU available: False, using: 0 HPUs\n",
      "LOCAL_RANK: 0 - CUDA_VISIBLE_DEVICES: [0]\n",
      "\n",
      "  | Name | Type   | Params\n",
      "--------------------------------\n",
      "0 | bert | BERT   | 2.0 M \n",
      "1 | out  | Linear | 432 K \n",
      "--------------------------------\n",
      "2.5 M     Trainable params\n",
      "0         Non-trainable params\n",
      "2.5 M     Total params\n",
      "9.875     Total estimated model params size (MB)\n"
     ]
    },
    {
     "name": "stdout",
     "output_type": "stream",
     "text": [
      "Epoch 3:  25%|██▌       | 4/16 [00:00<00:00, 16.24it/s, loss=6.78, v_num=4] "
     ]
    }
   ],
   "source": [
    "\n",
    "trainer = pl.Trainer(limit_train_batches=100, max_epochs=10, gpus=1)\n",
    "trainer.fit(mymodel, train_loader, val_loader)"
   ]
  }
 ],
 "metadata": {
  "kernelspec": {
   "display_name": "Python 3.9.12 ('base')",
   "language": "python",
   "name": "python3"
  },
  "language_info": {
   "codemirror_mode": {
    "name": "ipython",
    "version": 3
   },
   "file_extension": ".py",
   "mimetype": "text/x-python",
   "name": "python",
   "nbconvert_exporter": "python",
   "pygments_lexer": "ipython3",
   "version": "3.9.12"
  },
  "orig_nbformat": 4,
  "vscode": {
   "interpreter": {
    "hash": "70668f4c7653747fd59edaf7d5b50b4bbda7f2bf42a89fa403a332c71a486cbd"
   }
  }
 },
 "nbformat": 4,
 "nbformat_minor": 2
}
