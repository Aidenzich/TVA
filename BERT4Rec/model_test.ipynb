{
 "cells": [
  {
   "cell_type": "code",
   "execution_count": 2,
   "metadata": {},
   "outputs": [],
   "source": [
    "from model import BERTModel\n",
    "\n",
    "mymodel = BERTModel(\n",
    "    hidden_size=256,\n",
    "    num_items=3000,     # item 的數量\n",
    "    n_layers=2,\n",
    "    dropout=0,\n",
    "    heads=8,\n",
    "    max_len=100,\n",
    ")"
   ]
  }
 ],
 "metadata": {
  "kernelspec": {
   "display_name": "Python 3.9.12 ('base')",
   "language": "python",
   "name": "python3"
  },
  "language_info": {
   "codemirror_mode": {
    "name": "ipython",
    "version": 3
   },
   "file_extension": ".py",
   "mimetype": "text/x-python",
   "name": "python",
   "nbconvert_exporter": "python",
   "pygments_lexer": "ipython3",
   "version": "3.9.12"
  },
  "orig_nbformat": 4,
  "vscode": {
   "interpreter": {
    "hash": "70668f4c7653747fd59edaf7d5b50b4bbda7f2bf42a89fa403a332c71a486cbd"
   }
  }
 },
 "nbformat": 4,
 "nbformat_minor": 2
}
