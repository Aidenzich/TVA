{
 "cells": [
  {
   "cell_type": "code",
   "execution_count": 3,
   "metadata": {},
   "outputs": [
    {
     "name": "stderr",
     "output_type": "stream",
     "text": [
      "/home/aiden/miniconda3/lib/python3.9/site-packages/tqdm/auto.py:22: TqdmWarning: IProgress not found. Please update jupyter and ipywidgets. See https://ipywidgets.readthedocs.io/en/stable/user_install.html\n",
      "  from .autonotebook import tqdm as notebook_tqdm\n"
     ]
    }
   ],
   "source": [
    "from dataloaders import BertDataloader, BertDataset\n",
    "from templates import set_template\n",
    "from options import args"
   ]
  },
  {
   "cell_type": "code",
   "execution_count": 4,
   "metadata": {},
   "outputs": [],
   "source": [
    "set_template(args)"
   ]
  },
  {
   "cell_type": "code",
   "execution_count": 5,
   "metadata": {},
   "outputs": [
    {
     "name": "stdout",
     "output_type": "stream",
     "text": [
      "Already preprocessed. Skip preprocessing\n",
      "Negatives samples exist. Loading.\n",
      "Negatives samples exist. Loading.\n"
     ]
    }
   ],
   "source": [
    "\n",
    "from tmpdatasets import dataset_factory\n",
    "dataset = dataset_factory(args)\n",
    "dataloader = BertDataloader(args, dataset)\n",
    "train_loader, val_loader, test_loader = dataloader.get_pytorch_dataloaders()\n"
   ]
  },
  {
   "cell_type": "code",
   "execution_count": 6,
   "metadata": {},
   "outputs": [],
   "source": [
    "u2seq = dataloader.train\n",
    "u2answer = dataloader.val\n",
    "max_len = dataloader.max_len\n",
    "mask_prob = dataloader.mask_prob\n",
    "CLOZE_MASK_TOKEN = dataloader.CLOZE_MASK_TOKEN\n",
    "item_count = dataloader.item_count\n",
    "rng = dataloader.rng\n"
   ]
  },
  {
   "cell_type": "code",
   "execution_count": 11,
   "metadata": {},
   "outputs": [
    {
     "name": "stdout",
     "output_type": "stream",
     "text": [
      "3706\n",
      "100\n",
      "0.15\n"
     ]
    }
   ],
   "source": [
    "print(item_count)\n",
    "print(max_len)\n",
    "print(mask_prob)\n",
    "print(CLOZE_MASK_TOKEN)"
   ]
  },
  {
   "cell_type": "code",
   "execution_count": 8,
   "metadata": {},
   "outputs": [],
   "source": [
    "trainset = BertDataset(\n",
    "    mask_token = CLOZE_MASK_TOKEN,\n",
    "    u2seq=u2seq,\n",
    "    max_len = max_len,\n",
    "    mask_prob = mask_prob,    \n",
    "    num_items = item_count,\n",
    "    rng = rng\n",
    ")"
   ]
  },
  {
   "cell_type": "code",
   "execution_count": 7,
   "metadata": {},
   "outputs": [],
   "source": [
    "valset = BertDataset(\n",
    "    eval=True,\n",
    "    u2seq=u2seq,\n",
    "    u2answer=u2answer,\n",
    "    max_len = max_len,\n",
    "    mask_token = CLOZE_MASK_TOKEN,\n",
    "    negative_samples = dataloader.test_negative_samples\n",
    ")"
   ]
  },
  {
   "cell_type": "code",
   "execution_count": 8,
   "metadata": {},
   "outputs": [],
   "source": [
    "from model import BERTModel\n",
    "\n",
    "mymodel = BERTModel(\n",
    "    hidden_size=256,\n",
    "    num_items=train_loader.dataset.num_items,     # item 的數量\n",
    "    n_layers=2,\n",
    "    dropout=0,\n",
    "    heads=8,\n",
    "    max_len=100,\n",
    ")"
   ]
  },
  {
   "cell_type": "code",
   "execution_count": 9,
   "metadata": {},
   "outputs": [
    {
     "data": {
      "text/plain": [
       "<dataloaders.bert.BertDataset at 0x7fdf834fffa0>"
      ]
     },
     "execution_count": 9,
     "metadata": {},
     "output_type": "execute_result"
    }
   ],
   "source": [
    "trainset"
   ]
  },
  {
   "cell_type": "code",
   "execution_count": 10,
   "metadata": {},
   "outputs": [],
   "source": [
    "from torch.utils.data import DataLoader\n",
    "\n",
    "train_loader = DataLoader(\n",
    "    trainset, \n",
    "    batch_size=dataloader.args.train_batch_size,\n",
    "    shuffle=True,\n",
    "    pin_memory=True\n",
    ")\n",
    "\n",
    "val_loader = DataLoader(\n",
    "    valset,\n",
    "    batch_size=dataloader.args.val_batch_size,\n",
    "    shuffle=False,\n",
    "    pin_memory=True\n",
    ")"
   ]
  },
  {
   "cell_type": "code",
   "execution_count": 11,
   "metadata": {},
   "outputs": [
    {
     "name": "stdout",
     "output_type": "stream",
     "text": [
      "[tensor([[  31,  466, 2374,  ..., 2765, 3707, 3512],\n",
      "        [2755, 3620, 1044,  ..., 3132, 3707,  158],\n",
      "        [   0,    0,    0,  ..., 3707, 1384, 3707],\n",
      "        ...,\n",
      "        [   0,    0,    0,  ..., 3707,  428, 3707],\n",
      "        [   0,    0,    0,  ..., 1833, 3707, 3707],\n",
      "        [   0,    0,    0,  ...,  159, 1271, 2778]]), tensor([[   0,    0,    0,  ...,    0, 3627, 3512],\n",
      "        [   0, 1585,    0,  ...,    0, 1210,    0],\n",
      "        [   0,    0,    0,  ...,   46,    0, 3266],\n",
      "        ...,\n",
      "        [   0,    0,    0,  ..., 1022, 3112,  155],\n",
      "        [   0,    0,    0,  ...,    0, 1272, 2174],\n",
      "        [   0,    0,    0,  ...,    0,    0,    0]]), tensor([], size=(128, 0))]\n"
     ]
    }
   ],
   "source": [
    "for i in train_loader:\n",
    "    print(i)\n",
    "    break"
   ]
  },
  {
   "cell_type": "code",
   "execution_count": 12,
   "metadata": {},
   "outputs": [
    {
     "name": "stderr",
     "output_type": "stream",
     "text": [
      "GPU available: True, used: True\n",
      "TPU available: False, using: 0 TPU cores\n",
      "IPU available: False, using: 0 IPUs\n",
      "HPU available: False, using: 0 HPUs\n",
      "LOCAL_RANK: 0 - CUDA_VISIBLE_DEVICES: [0]\n",
      "\n",
      "  | Name | Type   | Params\n",
      "--------------------------------\n",
      "0 | bert | BERT   | 2.6 M \n",
      "1 | out  | Linear | 952 K \n",
      "--------------------------------\n",
      "3.5 M     Trainable params\n",
      "0         Non-trainable params\n",
      "3.5 M     Total params\n",
      "14.028    Total estimated model params size (MB)\n"
     ]
    },
    {
     "name": "stdout",
     "output_type": "stream",
     "text": [
      "Sanity Checking DataLoader 0:   0%|          | 0/2 [00:00<?, ?it/s]"
     ]
    },
    {
     "name": "stderr",
     "output_type": "stream",
     "text": [
      "/home/aiden/miniconda3/lib/python3.9/site-packages/pytorch_lightning/trainer/connectors/data_connector.py:240: PossibleUserWarning: The dataloader, val_dataloader 0, does not have many workers which may be a bottleneck. Consider increasing the value of the `num_workers` argument` (try 16 which is the number of cpus on this machine) in the `DataLoader` init to improve performance.\n",
      "  rank_zero_warn(\n"
     ]
    },
    {
     "name": "stdout",
     "output_type": "stream",
     "text": [
      "                                                                           "
     ]
    },
    {
     "name": "stderr",
     "output_type": "stream",
     "text": [
      "/home/aiden/miniconda3/lib/python3.9/site-packages/pytorch_lightning/trainer/connectors/data_connector.py:240: PossibleUserWarning: The dataloader, train_dataloader, does not have many workers which may be a bottleneck. Consider increasing the value of the `num_workers` argument` (try 16 which is the number of cpus on this machine) in the `DataLoader` init to improve performance.\n",
      "  rank_zero_warn(\n",
      "/home/aiden/miniconda3/lib/python3.9/site-packages/pytorch_lightning/trainer/trainer.py:1927: PossibleUserWarning: The number of training batches (48) is smaller than the logging interval Trainer(log_every_n_steps=50). Set a lower value for log_every_n_steps if you want to see logs for the training epoch.\n",
      "  rank_zero_warn(\n"
     ]
    },
    {
     "name": "stdout",
     "output_type": "stream",
     "text": [
      "Epoch 9: 100%|██████████| 96/96 [00:04<00:00, 21.01it/s, loss=5.63, v_num=1]\n"
     ]
    }
   ],
   "source": [
    "import pytorch_lightning as pl\n",
    "trainer = pl.Trainer(limit_train_batches=100, max_epochs=10, gpus=1)\n",
    "trainer.fit(mymodel, train_loader, val_loader)"
   ]
  }
 ],
 "metadata": {
  "kernelspec": {
   "display_name": "Python 3.9.12 ('base')",
   "language": "python",
   "name": "python3"
  },
  "language_info": {
   "codemirror_mode": {
    "name": "ipython",
    "version": 3
   },
   "file_extension": ".py",
   "mimetype": "text/x-python",
   "name": "python",
   "nbconvert_exporter": "python",
   "pygments_lexer": "ipython3",
   "version": "3.9.12"
  },
  "orig_nbformat": 4,
  "vscode": {
   "interpreter": {
    "hash": "70668f4c7653747fd59edaf7d5b50b4bbda7f2bf42a89fa403a332c71a486cbd"
   }
  }
 },
 "nbformat": 4,
 "nbformat_minor": 2
}
